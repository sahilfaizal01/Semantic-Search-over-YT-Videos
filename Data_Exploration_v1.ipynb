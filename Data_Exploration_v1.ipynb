{
  "nbformat": 4,
  "nbformat_minor": 0,
  "metadata": {
    "colab": {
      "provenance": [],
      "authorship_tag": "ABX9TyPIizFyTT/2TBHKdOMIrxE7",
      "include_colab_link": true
    },
    "kernelspec": {
      "name": "python3",
      "display_name": "Python 3"
    },
    "language_info": {
      "name": "python"
    }
  },
  "cells": [
    {
      "cell_type": "markdown",
      "metadata": {
        "id": "view-in-github",
        "colab_type": "text"
      },
      "source": [
        "<a href=\"https://colab.research.google.com/github/sahilfaizal01/Semantic-Search-over-YT-Videos/blob/main/Data_Exploration_v1.ipynb\" target=\"_parent\"><img src=\"https://colab.research.google.com/assets/colab-badge.svg\" alt=\"Open In Colab\"/></a>"
      ]
    },
    {
      "cell_type": "code",
      "execution_count": 65,
      "metadata": {
        "id": "xhQye7GAnbZH"
      },
      "outputs": [],
      "source": [
        "import polars as pl\n",
        "import matplotlib.pyplot as plt"
      ]
    },
    {
      "cell_type": "code",
      "source": [
        "df = pl.read_parquet('video-transcripts.parquet')"
      ],
      "metadata": {
        "id": "_NxmDFMknwJb"
      },
      "execution_count": 66,
      "outputs": []
    },
    {
      "cell_type": "code",
      "source": [
        "# shape + unique values\n",
        "print(\"shape:\", df.shape)\n",
        "print(\"n unique rows:\", df.n_unique())\n",
        "for j in range(df.shape[1]):\n",
        "    print(\"n unique elements (\" + df.columns[j] + \"):\", df[:,j].n_unique())"
      ],
      "metadata": {
        "colab": {
          "base_uri": "https://localhost:8080/"
        },
        "id": "WhtTFcvDnwLn",
        "outputId": "71314dc7-10e0-48e3-8169-8daecd8dd71f"
      },
      "execution_count": 67,
      "outputs": [
        {
          "output_type": "stream",
          "name": "stdout",
          "text": [
            "shape: (510, 4)\n",
            "n unique rows: 505\n",
            "n unique elements (video_id): 505\n",
            "n unique elements (datetime): 505\n",
            "n unique elements (title): 505\n",
            "n unique elements (transcript): 499\n"
          ]
        }
      ]
    },
    {
      "cell_type": "code",
      "source": [
        "print(\"Total number of title characters:\", sum(len(df['title'][i]) for i in range(len(df))))\n",
        "print(\"Total number of transcript characters:\", sum(len(df['transcript'][i]) for i in range(len(df))))"
      ],
      "metadata": {
        "colab": {
          "base_uri": "https://localhost:8080/"
        },
        "id": "jeVVAeORnwPL",
        "outputId": "d21c3b15-85d9-4633-8295-170c7ccf79a9"
      },
      "execution_count": 68,
      "outputs": [
        {
          "output_type": "stream",
          "name": "stdout",
          "text": [
            "Total number of title characters: 28548\n",
            "Total number of transcript characters: 943362\n"
          ]
        }
      ]
    },
    {
      "cell_type": "markdown",
      "source": [
        "# **Checking Dtypes**"
      ],
      "metadata": {
        "id": "zm8FXxHxoPQV"
      }
    },
    {
      "cell_type": "code",
      "source": [
        "# change datetime to Datetime dtype\n",
        "df = df.with_columns(pl.col('datetime').cast(pl.Datetime))\n",
        "print(df.head())"
      ],
      "metadata": {
        "colab": {
          "base_uri": "https://localhost:8080/"
        },
        "id": "f1O1KuzPnwUs",
        "outputId": "16ae8cc1-7740-4e4e-cf13-62a78736c632"
      },
      "execution_count": 69,
      "outputs": [
        {
          "output_type": "stream",
          "name": "stdout",
          "text": [
            "shape: (5, 4)\n",
            "┌─────────────┬─────────────────────┬───────────────────────────────┬──────────────────────────────┐\n",
            "│ video_id    ┆ datetime            ┆ title                         ┆ transcript                   │\n",
            "│ ---         ┆ ---                 ┆ ---                           ┆ ---                          │\n",
            "│ str         ┆ datetime[μs]        ┆ str                           ┆ str                          │\n",
            "╞═════════════╪═════════════════════╪═══════════════════════════════╪══════════════════════════════╡\n",
            "│ XT0WblJZqSo ┆ 2024-07-04 20:00:09 ┆ Sheldon Gets Fired | The Big  ┆ Here Comes our new boss be   │\n",
            "│             ┆                     ┆ Ban…                          ┆ polit…                       │\n",
            "│ P2A82K1sG48 ┆ 2024-07-04 12:00:21 ┆ Nerds and Their Moms | The    ┆ you guys need me to call     │\n",
            "│             ┆                     ┆ Big B…                        ┆ someone…                     │\n",
            "│ looMyVTPOn8 ┆ 2024-07-04 07:00:21 ┆ Funny Moments from Seasons 11 ┆ hello Leonard I was going to │\n",
            "│             ┆                     ┆ an…                           ┆ wri…                         │\n",
            "│ j6YOTFV_w5M ┆ 2024-07-03 20:00:16 ┆ Is Sheldon a Robot? | The Big ┆ Sheldon if you were a robot  │\n",
            "│             ┆                     ┆ Ba…                           ┆ and …                        │\n",
            "│ UUTQluNYg5I ┆ 2024-07-03 17:00:19 ┆ Professor Proton Picks        ┆ hey I got an email from      │\n",
            "│             ┆                     ┆ Leonard O…                    ┆ Professo…                    │\n",
            "└─────────────┴─────────────────────┴───────────────────────────────┴──────────────────────────────┘\n"
          ]
        }
      ]
    },
    {
      "cell_type": "markdown",
      "source": [
        "# **Character Counts**"
      ],
      "metadata": {
        "id": "_BG2RS7XoYRr"
      }
    },
    {
      "cell_type": "code",
      "source": [
        "# lengths/character counts\n",
        "plt.hist(df['title'].str.len_chars())"
      ],
      "metadata": {
        "colab": {
          "base_uri": "https://localhost:8080/",
          "height": 482
        },
        "id": "OJ4Grm17nwXu",
        "outputId": "31618722-46f0-4092-879a-4bc1e86378a8"
      },
      "execution_count": 70,
      "outputs": [
        {
          "output_type": "execute_result",
          "data": {
            "text/plain": [
              "(array([  8.,  70., 126., 137., 110.,  43.,   8.,   6.,   0.,   2.]),\n",
              " array([ 29.,  37.,  45.,  53.,  61.,  69.,  77.,  85.,  93., 101., 109.]),\n",
              " <BarContainer object of 10 artists>)"
            ]
          },
          "metadata": {},
          "execution_count": 70
        },
        {
          "output_type": "display_data",
          "data": {
            "text/plain": [
              "<Figure size 640x480 with 1 Axes>"
            ],
            "image/png": "[encoded data removed]"
          },
          "metadata": {}
        }
      ]
    },
    {
      "cell_type": "code",
      "source": [
        "plt.hist(df['transcript'].str.len_chars())"
      ],
      "metadata": {
        "colab": {
          "base_uri": "https://localhost:8080/",
          "height": 517
        },
        "id": "ryALjJdEnwZ5",
        "outputId": "48abff79-a2d1-428a-f8a5-4a8533b1aee1"
      },
      "execution_count": 71,
      "outputs": [
        {
          "output_type": "execute_result",
          "data": {
            "text/plain": [
              "(array([448.,  24.,  12.,  11.,   6.,   3.,   3.,   1.,   1.,   1.]),\n",
              " array([3.0000e+00, 2.9370e+03, 5.8710e+03, 8.8050e+03, 1.1739e+04,\n",
              "        1.4673e+04, 1.7607e+04, 2.0541e+04, 2.3475e+04, 2.6409e+04,\n",
              "        2.9343e+04]),\n",
              " <BarContainer object of 10 artists>)"
            ]
          },
          "metadata": {},
          "execution_count": 71
        },
        {
          "output_type": "display_data",
          "data": {
            "text/plain": [
              "<Figure size 640x480 with 1 Axes>"
            ],
            "image/png": "[encoded data removed]"
          },
          "metadata": {}
        }
      ]
    }
  ]
}