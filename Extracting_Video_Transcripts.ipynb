{
  "nbformat": 4,
  "nbformat_minor": 0,
  "metadata": {
    "colab": {
      "provenance": [],
      "authorship_tag": "ABX9TyNr9yS0ABA6U5Hl942Hy1Dx",
      "include_colab_link": true
    },
    "kernelspec": {
      "name": "python3",
      "display_name": "Python 3"
    },
    "language_info": {
      "name": "python"
    }
  },
  "cells": [
    {
      "cell_type": "markdown",
      "metadata": {
        "id": "view-in-github",
        "colab_type": "text"
      },
      "source": [
        "<a href=\"https://colab.research.google.com/github/sahilfaizal01/Semantic-Search-over-YT-Videos/blob/main/Extracting_Video_Transcripts.ipynb\" target=\"_parent\"><img src=\"https://colab.research.google.com/assets/colab-badge.svg\" alt=\"Open In Colab\"/></a>"
      ]
    },
    {
      "cell_type": "code",
      "source": [
        "!pip install youtube-transcript-api"
      ],
      "metadata": {
        "colab": {
          "base_uri": "https://localhost:8080/"
        },
        "id": "9ji0XhPo0v42",
        "outputId": "d9b204f5-3989-4438-8520-7016c948c3b5"
      },
      "execution_count": 1,
      "outputs": [
        {
          "output_type": "stream",
          "name": "stdout",
          "text": [
            "Collecting youtube-transcript-api\n",
            "  Downloading youtube_transcript_api-0.6.2-py3-none-any.whl (24 kB)\n",
            "Requirement already satisfied: requests in /usr/local/lib/python3.10/dist-packages (from youtube-transcript-api) (2.31.0)\n",
            "Requirement already satisfied: charset-normalizer<4,>=2 in /usr/local/lib/python3.10/dist-packages (from requests->youtube-transcript-api) (3.3.2)\n",
            "Requirement already satisfied: idna<4,>=2.5 in /usr/local/lib/python3.10/dist-packages (from requests->youtube-transcript-api) (3.7)\n",
            "Requirement already satisfied: urllib3<3,>=1.21.1 in /usr/local/lib/python3.10/dist-packages (from requests->youtube-transcript-api) (2.0.7)\n",
            "Requirement already satisfied: certifi>=2017.4.17 in /usr/local/lib/python3.10/dist-packages (from requests->youtube-transcript-api) (2024.6.2)\n",
            "Installing collected packages: youtube-transcript-api\n",
            "Successfully installed youtube-transcript-api-0.6.2\n"
          ]
        }
      ]
    },
    {
      "cell_type": "code",
      "execution_count": 2,
      "metadata": {
        "id": "wc_IhfBozcby"
      },
      "outputs": [],
      "source": [
        "import polars as pl\n",
        "from youtube_transcript_api import YouTubeTranscriptApi"
      ]
    },
    {
      "cell_type": "code",
      "source": [
        "def extract_text(transcript: list) -> str:\n",
        "  \"\"\"\n",
        "  Function to extract text from transcript dictionary\n",
        "  \"\"\"\n",
        "  text_list = [transcript[i]['text'] for i in range(len(transcript))]\n",
        "  return ' '.join(text_list)"
      ],
      "metadata": {
        "id": "2ICIgEjSzcz-"
      },
      "execution_count": 3,
      "outputs": []
    },
    {
      "cell_type": "code",
      "source": [
        "df = pl.read_parquet('video-ids.parquet')\n",
        "print(df.head())"
      ],
      "metadata": {
        "colab": {
          "base_uri": "https://localhost:8080/"
        },
        "id": "w-VRbRP9zc2A",
        "outputId": "8557d02d-d99d-48b8-abb8-a26a6d923e5f"
      },
      "execution_count": 4,
      "outputs": [
        {
          "output_type": "stream",
          "name": "stdout",
          "text": [
            "shape: (5, 3)\n",
            "┌─────────────┬──────────────────────┬───────────────────────────────────┐\n",
            "│ video_id    ┆ datetime             ┆ title                             │\n",
            "│ ---         ┆ ---                  ┆ ---                               │\n",
            "│ str         ┆ str                  ┆ str                               │\n",
            "╞═════════════╪══════════════════════╪═══════════════════════════════════╡\n",
            "│ XT0WblJZqSo ┆ 2024-07-04T20:00:09Z ┆ Sheldon Gets Fired | The Big Ban… │\n",
            "│ P2A82K1sG48 ┆ 2024-07-04T12:00:21Z ┆ Nerds and Their Moms | The Big B… │\n",
            "│ looMyVTPOn8 ┆ 2024-07-04T07:00:21Z ┆ Funny Moments from Seasons 11 an… │\n",
            "│ j6YOTFV_w5M ┆ 2024-07-03T20:00:16Z ┆ Is Sheldon a Robot? | The Big Ba… │\n",
            "│ UUTQluNYg5I ┆ 2024-07-03T17:00:19Z ┆ Professor Proton Picks Leonard O… │\n",
            "└─────────────┴──────────────────────┴───────────────────────────────────┘\n"
          ]
        }
      ]
    },
    {
      "cell_type": "code",
      "source": [
        "%%time\n",
        "transcript_text_list = []\n",
        "\n",
        "for i in range(len(df)):\n",
        "  # try to extract captions\n",
        "  try:\n",
        "    transcript = YouTubeTranscriptApi.get_transcript(df['video_id'][i])\n",
        "    transcript_text = extract_text(transcript)\n",
        "  # if not available set as n/a\n",
        "  except:\n",
        "    transcript_text = \"n/a\"\n",
        "  # append to list\n",
        "  transcript_text_list.append(transcript_text)"
      ],
      "metadata": {
        "colab": {
          "base_uri": "https://localhost:8080/"
        },
        "id": "TofICCdjzc4V",
        "outputId": "583a2e01-a688-48c4-8ca2-c048edb71f99"
      },
      "execution_count": 5,
      "outputs": [
        {
          "output_type": "stream",
          "name": "stdout",
          "text": [
            "CPU times: user 1min 31s, sys: 2.26 s, total: 1min 33s\n",
            "Wall time: 5min 52s\n"
          ]
        }
      ]
    },
    {
      "cell_type": "code",
      "source": [
        "# add transcripts to dataframe\n",
        "df = df.with_columns(pl.Series(name=\"transcript\", values=transcript_text_list))\n",
        "print(df.head())"
      ],
      "metadata": {
        "colab": {
          "base_uri": "https://localhost:8080/"
        },
        "id": "nIA7-ei7zc65",
        "outputId": "f1b297ea-9e52-4b2b-f985-a8da8bf5b278"
      },
      "execution_count": 6,
      "outputs": [
        {
          "output_type": "stream",
          "name": "stdout",
          "text": [
            "shape: (5, 4)\n",
            "┌─────────────┬──────────────────────┬──────────────────────────────┬──────────────────────────────┐\n",
            "│ video_id    ┆ datetime             ┆ title                        ┆ transcript                   │\n",
            "│ ---         ┆ ---                  ┆ ---                          ┆ ---                          │\n",
            "│ str         ┆ str                  ┆ str                          ┆ str                          │\n",
            "╞═════════════╪══════════════════════╪══════════════════════════════╪══════════════════════════════╡\n",
            "│ XT0WblJZqSo ┆ 2024-07-04T20:00:09Z ┆ Sheldon Gets Fired | The Big ┆ Here Comes our new boss be   │\n",
            "│             ┆                      ┆ Ban…                         ┆ polit…                       │\n",
            "│ P2A82K1sG48 ┆ 2024-07-04T12:00:21Z ┆ Nerds and Their Moms | The   ┆ you guys need me to call     │\n",
            "│             ┆                      ┆ Big B…                       ┆ someone…                     │\n",
            "│ looMyVTPOn8 ┆ 2024-07-04T07:00:21Z ┆ Funny Moments from Seasons   ┆ hello Leonard I was going to │\n",
            "│             ┆                      ┆ 11 an…                       ┆ wri…                         │\n",
            "│ j6YOTFV_w5M ┆ 2024-07-03T20:00:16Z ┆ Is Sheldon a Robot? | The    ┆ Sheldon if you were a robot  │\n",
            "│             ┆                      ┆ Big Ba…                      ┆ and …                        │\n",
            "│ UUTQluNYg5I ┆ 2024-07-03T17:00:19Z ┆ Professor Proton Picks       ┆ hey I got an email from      │\n",
            "│             ┆                      ┆ Leonard O…                   ┆ Professo…                    │\n",
            "└─────────────┴──────────────────────┴──────────────────────────────┴──────────────────────────────┘\n"
          ]
        }
      ]
    },
    {
      "cell_type": "code",
      "source": [
        "df.shape"
      ],
      "metadata": {
        "colab": {
          "base_uri": "https://localhost:8080/"
        },
        "id": "rSRBWyEW2Oyd",
        "outputId": "9e777e2d-f800-4c22-8d1e-20e8ac2b447c"
      },
      "execution_count": 7,
      "outputs": [
        {
          "output_type": "execute_result",
          "data": {
            "text/plain": [
              "(510, 4)"
            ]
          },
          "metadata": {},
          "execution_count": 7
        }
      ]
    },
    {
      "cell_type": "code",
      "source": [
        "# write data to file\n",
        "df.write_parquet('video-transcripts.parquet')\n",
        "df.write_csv('video-transcripts.csv')"
      ],
      "metadata": {
        "id": "ITIAoU8wzc9P"
      },
      "execution_count": 8,
      "outputs": []
    },
    {
      "cell_type": "code",
      "source": [],
      "metadata": {
        "id": "WeprTEkFzc_V"
      },
      "execution_count": 5,
      "outputs": []
    },
    {
      "cell_type": "code",
      "source": [],
      "metadata": {
        "id": "HNbOZ4cyzdCR"
      },
      "execution_count": 5,
      "outputs": []
    }
  ]
}